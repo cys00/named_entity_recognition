{
 "cells": [
  {
   "cell_type": "code",
   "execution_count": 44,
   "metadata": {},
   "outputs": [],
   "source": [
    "import pandas as pd\n",
    "import numpy as np\n",
    "import matplotlib.pyplot as plt"
   ]
  },
  {
   "cell_type": "code",
   "execution_count": 38,
   "metadata": {},
   "outputs": [
    {
     "data": {
      "text/html": [
       "<div>\n",
       "<style scoped>\n",
       "    .dataframe tbody tr th:only-of-type {\n",
       "        vertical-align: middle;\n",
       "    }\n",
       "\n",
       "    .dataframe tbody tr th {\n",
       "        vertical-align: top;\n",
       "    }\n",
       "\n",
       "    .dataframe thead th {\n",
       "        text-align: right;\n",
       "    }\n",
       "</style>\n",
       "<table border=\"1\" class=\"dataframe\">\n",
       "  <thead>\n",
       "    <tr style=\"text-align: right;\">\n",
       "      <th></th>\n",
       "      <th>Sentence #</th>\n",
       "      <th>Word</th>\n",
       "      <th>POS</th>\n",
       "      <th>Tag</th>\n",
       "    </tr>\n",
       "  </thead>\n",
       "  <tbody>\n",
       "    <tr>\n",
       "      <th>0</th>\n",
       "      <td>1</td>\n",
       "      <td>Thousands</td>\n",
       "      <td>NNS</td>\n",
       "      <td>O</td>\n",
       "    </tr>\n",
       "    <tr>\n",
       "      <th>1</th>\n",
       "      <td>1</td>\n",
       "      <td>of</td>\n",
       "      <td>IN</td>\n",
       "      <td>O</td>\n",
       "    </tr>\n",
       "    <tr>\n",
       "      <th>2</th>\n",
       "      <td>1</td>\n",
       "      <td>demonstrators</td>\n",
       "      <td>NNS</td>\n",
       "      <td>O</td>\n",
       "    </tr>\n",
       "    <tr>\n",
       "      <th>3</th>\n",
       "      <td>1</td>\n",
       "      <td>have</td>\n",
       "      <td>VBP</td>\n",
       "      <td>O</td>\n",
       "    </tr>\n",
       "    <tr>\n",
       "      <th>4</th>\n",
       "      <td>1</td>\n",
       "      <td>marched</td>\n",
       "      <td>VBN</td>\n",
       "      <td>O</td>\n",
       "    </tr>\n",
       "  </tbody>\n",
       "</table>\n",
       "</div>"
      ],
      "text/plain": [
       "   Sentence #           Word  POS Tag\n",
       "0           1      Thousands  NNS   O\n",
       "1           1             of   IN   O\n",
       "2           1  demonstrators  NNS   O\n",
       "3           1           have  VBP   O\n",
       "4           1        marched  VBN   O"
      ]
     },
     "execution_count": 38,
     "metadata": {},
     "output_type": "execute_result"
    }
   ],
   "source": [
    "data = pd.read_csv('ner_dataset.csv',encoding='latin1')\n",
    "data.fillna(method='ffill',inplace=True) \n",
    "#use method 'ffill' to fill nan with the nearest value before nan\n",
    "data['Sentence #'] = data['Sentence #'].apply(lambda x: int(x[10:]))\n",
    "data.head()"
   ]
  },
  {
   "cell_type": "code",
   "execution_count": 54,
   "metadata": {},
   "outputs": [
    {
     "data": {
      "text/plain": [
       "(17, 35179)"
      ]
     },
     "execution_count": 54,
     "metadata": {},
     "output_type": "execute_result"
    }
   ],
   "source": [
    "num_tags = data.Tag.nunique() #17 target values\n",
    "words = list(set(data.Word))\n",
    "words.append('ENDPAD') #For padding use\n",
    "num_words = len(words)\n",
    "num_tags,num_words"
   ]
  },
  {
   "cell_type": "code",
   "execution_count": 63,
   "metadata": {},
   "outputs": [],
   "source": [
    "#create a class to retrieve sentences and tags, which are correspondingly inputs and outputs\n",
    "#each sentence will be broken into a list of tuples, each tuple contains word, pos, tag\n",
    "#so the output will be a list of lists of tuples\n",
    "class SentenceGetter(object):\n",
    "    def __init__(self,data):\n",
    "        self.data = data\n",
    "        self.gb = self.data.groupby('Sentence #').apply(\n",
    "            lambda s: [(w,p,t) for (w,p,t) in zip(s.Word.values,s.POS.values,s.Tag.values)]) \n",
    "        #cannot use agg here, groupby.apply is applied on each group(here is sentence)\n",
    "        #groupby.agg is applied on each column in the group\n",
    "        self.sentences = [i for i in self.gb]"
   ]
  },
  {
   "cell_type": "code",
   "execution_count": 68,
   "metadata": {
    "scrolled": false
   },
   "outputs": [],
   "source": [
    "getter = SentenceGetter(data)\n",
    "sentences = getter.sentences"
   ]
  },
  {
   "cell_type": "code",
   "execution_count": 77,
   "metadata": {},
   "outputs": [
    {
     "data": {
      "image/png": "[encoded data removed]",
      "text/plain": [
       "<Figure size 432x288 with 1 Axes>"
      ]
     },
     "metadata": {
      "needs_background": "light"
     },
     "output_type": "display_data"
    }
   ],
   "source": [
    "#to visualize the length of the sentences, use histogram, instead of bar chart\n",
    "#histogram is to plot the distribution\n",
    "gb = data.groupby('Sentence #').apply(len)\n",
    "plt.hist([l for l in gb],bins=50)\n",
    "plt.show()\n",
    "#after observing the distribution of length of sentences, choose max_len = 50\n",
    "max_len = 50"
   ]
  },
  {
   "cell_type": "code",
   "execution_count": 85,
   "metadata": {},
   "outputs": [],
   "source": [
    "#prepare inputs(X) and outputs(y), before splitting into train and test sets\n",
    "#integer encode X and y, pad X and y, and then one hot encode y\n",
    "#create dictionaries to map words to idx, tags to idx \n",
    "word2idx = {w:i for i,w in enumerate(words)}\n",
    "tags = list(set(data.Tag.values))\n",
    "tag2idx = {t:i for i,t in enumerate(tags)}\n",
    "\n",
    "X = [[word2idx[w[0]] for w in s] for s in sentences] \n",
    "from keras.preprocessing.sequence import pad_sequences\n",
    "X = pad_sequences(sequences=X,padding='post',value=num_words-1,maxlen=max_len)\n",
    "#list comprehension containing two for loops[[..for..in] for..in..]\n",
    "#create a list of integer encoded sentences, each sentence is a list inside the list\n",
    "y = [[tag2idx[t[2]] for t in s] for s in sentences]\n",
    "y = pad_sequences(sequences=y, maxlen=max_len, value=tag2idx['O'], padding='post')\n",
    "#one hot encode y\n",
    "#for classification problems, keras models only take one hot encoded multiclass labels as targets\n",
    "from keras.utils import to_categorical\n",
    "y = to_categorical(y,num_classes=num_tags).tolist()\n",
    "#now split into train and test sets, as for validation set, define when using model.fit()\n",
    "from sklearn.model_selection import train_test_split\n",
    "X_train, X_test, y_train, y_test = train_test_split(X,y,test_size=0.1)"
   ]
  },
  {
   "cell_type": "code",
   "execution_count": 89,
   "metadata": {},
   "outputs": [],
   "source": [
    "from keras import Model, Input\n",
    "from keras.layers import LSTM, Dense, Embedding, Bidirectional, TimeDistributed, SpatialDropout1D"
   ]
  },
  {
   "cell_type": "code",
   "execution_count": 91,
   "metadata": {},
   "outputs": [
    {
     "name": "stdout",
     "output_type": "stream",
     "text": [
      "Model: \"model_1\"\n",
      "_________________________________________________________________\n",
      "Layer (type)                 Output Shape              Param #   \n",
      "=================================================================\n",
      "input_2 (InputLayer)         (None, 50)                0         \n",
      "_________________________________________________________________\n",
      "embedding_2 (Embedding)      (None, 50, 50)            1758950   \n",
      "_________________________________________________________________\n",
      "spatial_dropout1d_1 (Spatial (None, 50, 50)            0         \n",
      "_________________________________________________________________\n",
      "bidirectional_1 (Bidirection (None, 50, 200)           120800    \n",
      "_________________________________________________________________\n",
      "time_distributed_1 (TimeDist (None, 50, 17)            3417      \n",
      "=================================================================\n",
      "Total params: 1,883,167\n",
      "Trainable params: 1,883,167\n",
      "Non-trainable params: 0\n",
      "_________________________________________________________________\n"
     ]
    }
   ],
   "source": [
    "'''for the embedding layer: \n",
    "* input_dim: This is the size of the vocabulary in the text data. For example, if your data is integer encoded to values between 0-10, then the size of the vocabulary would be 11 words.\n",
    "* output_dim: This is the size of the vector space in which words will be embedded. It defines the size of the output vectors from this layer for each word. For example, it could be 32 or 100 or even larger. Test different values for your problem.\n",
    "* input_length: This is the length of input sequences, as you would define for any input layer of a Keras model. For example, if all of your input documents are comprised of 1000 words, this would be 1000.\n",
    "'''\n",
    "input_word = Input(shape=(max_len,))\n",
    "model = Embedding(input_dim=num_words, output_dim=max_len,input_length=max_len)(input_word)\n",
    "model = SpatialDropout1D(0.1)(model)\n",
    "model = Bidirectional(LSTM(units=100,return_sequences=True,recurrent_dropout=0.1))(model)\n",
    "out = TimeDistributed(Dense(num_tags,activation='softmax'))(model)\n",
    "model = Model(input_word,out)\n",
    "model.summary()"
   ]
  },
  {
   "cell_type": "code",
   "execution_count": 92,
   "metadata": {},
   "outputs": [],
   "source": [
    "model.compile(optimizer='adam',\n",
    "             loss='categorical_crossentropy',\n",
    "             metrics=['accuracy'])"
   ]
  },
  {
   "cell_type": "code",
   "execution_count": 101,
   "metadata": {},
   "outputs": [],
   "source": [
    "from keras.callbacks import EarlyStopping\n",
    "from livelossplot.tf_keras import PlotLossesCallback"
   ]
  },
  {
   "cell_type": "code",
   "execution_count": 103,
   "metadata": {},
   "outputs": [
    {
     "data": {
      "image/png": "[encoded data removed]",
      "text/plain": [
       "<Figure size 864x576 with 2 Axes>"
      ]
     },
     "metadata": {
      "needs_background": "light"
     },
     "output_type": "display_data"
    },
    {
     "name": "stdout",
     "output_type": "stream",
     "text": [
      "Log-loss (cost function):\n",
      "training   (min:    0.039, max:    0.190, cur:    0.039)\n",
      "validation (min:    0.049, max:    0.070, cur:    0.049)\n",
      "\n",
      "accuracy:\n",
      "training   (min:    0.957, max:    0.988, cur:    0.988)\n",
      "validation (min:    0.980, max:    0.985, cur:    0.985)\n"
     ]
    }
   ],
   "source": [
    "early_stopping = EarlyStopping(monitor='val_accuracy',\n",
    "                              patience=1,\n",
    "                              verbose=1,\n",
    "                              mode='max')\n",
    "callbacks = [PlotLossesCallback(),early_stopping]\n",
    "history = model.fit(X_train,np.array(y_train),  #X and y have to be np.array, here y_train is a list\n",
    "                   validation_split=0.2,\n",
    "                   batch_size=32,\n",
    "                   epochs=3,\n",
    "                   verbose=1,\n",
    "                   callbacks=callbacks)"
   ]
  },
  {
   "cell_type": "code",
   "execution_count": 105,
   "metadata": {},
   "outputs": [
    {
     "name": "stdout",
     "output_type": "stream",
     "text": [
      "4796/4796 [==============================] - 2s 435us/step\n"
     ]
    },
    {
     "data": {
      "text/plain": [
       "[0.04873385313926288, 0.9850167036056519]"
      ]
     },
     "execution_count": 105,
     "metadata": {},
     "output_type": "execute_result"
    }
   ],
   "source": [
    "model.evaluate(X_test,np.array(y_test))"
   ]
  },
  {
   "cell_type": "code",
   "execution_count": 171,
   "metadata": {},
   "outputs": [
    {
     "name": "stdout",
     "output_type": "stream",
     "text": [
      "words        true labels    \t predictions    \n",
      "\n",
      "---------------------------------------------\n",
      "U.S.         B-org          \t B-org          \n",
      "\n",
      "Energy       I-org          \t I-org          \n",
      "\n",
      "Secretary    O              \t O              \n",
      "\n",
      "Samuel       B-per          \t I-per          \n",
      "\n",
      "Bodman       I-per          \t I-per          \n",
      "\n",
      "told         O              \t O              \n",
      "\n",
      "television   O              \t O              \n",
      "\n",
      "interviewers O              \t O              \n",
      "\n",
      "the          O              \t O              \n",
      "\n",
      "oil          O              \t O              \n",
      "\n",
      "will         O              \t O              \n",
      "\n",
      "be           O              \t O              \n",
      "\n",
      "loaned       O              \t O              \n",
      "\n",
      "to           O              \t O              \n",
      "\n",
      "refiners     O              \t O              \n",
      "\n",
      "who          O              \t O              \n",
      "\n",
      "need         O              \t O              \n",
      "\n",
      "it           O              \t O              \n",
      "\n",
      ".            O              \t O              \n",
      "\n",
      "ENDPAD       O              \t O              \n",
      "\n",
      "ENDPAD       O              \t O              \n",
      "\n",
      "ENDPAD       O              \t O              \n",
      "\n",
      "ENDPAD       O              \t O              \n",
      "\n",
      "ENDPAD       O              \t O              \n",
      "\n",
      "ENDPAD       O              \t O              \n",
      "\n",
      "ENDPAD       O              \t O              \n",
      "\n",
      "ENDPAD       O              \t O              \n",
      "\n",
      "ENDPAD       O              \t O              \n",
      "\n",
      "ENDPAD       O              \t O              \n",
      "\n",
      "ENDPAD       O              \t O              \n",
      "\n",
      "ENDPAD       O              \t O              \n",
      "\n",
      "ENDPAD       O              \t O              \n",
      "\n",
      "ENDPAD       O              \t O              \n",
      "\n",
      "ENDPAD       O              \t O              \n",
      "\n",
      "ENDPAD       O              \t O              \n",
      "\n",
      "ENDPAD       O              \t O              \n",
      "\n",
      "ENDPAD       O              \t O              \n",
      "\n",
      "ENDPAD       O              \t O              \n",
      "\n",
      "ENDPAD       O              \t O              \n",
      "\n",
      "ENDPAD       O              \t O              \n",
      "\n",
      "ENDPAD       O              \t O              \n",
      "\n",
      "ENDPAD       O              \t O              \n",
      "\n",
      "ENDPAD       O              \t O              \n",
      "\n",
      "ENDPAD       O              \t O              \n",
      "\n",
      "ENDPAD       O              \t O              \n",
      "\n",
      "ENDPAD       O              \t O              \n",
      "\n",
      "ENDPAD       O              \t O              \n",
      "\n",
      "ENDPAD       O              \t O              \n",
      "\n",
      "ENDPAD       O              \t O              \n",
      "\n",
      "ENDPAD       O              \t O              \n",
      "\n"
     ]
    }
   ],
   "source": [
    "i = np.random.randint(0,X_test.shape[0])\n",
    "pred_idx = np.argmax(model.predict(X_test)[i],axis=1)\n",
    "preds = [tags[t] for t in pred_idx]\n",
    "true_idx = np.argmax(np.array(y_test[i]),axis=1)\n",
    "true_labels = [tags[t] for t in true_idx]\n",
    "w = [words[j] for j in X_test[i]]\n",
    "print('{:12} {:15}\\t {:15}\\n'.format('words','true labels','predictions'))\n",
    "print('-'*45)\n",
    "for w, true_label, pred in zip(w,true_labels,preds):\n",
    "    print('{:12} {:15}\\t {:15}\\n'.format(w,true_label,pred))"
   ]
  },
  {
   "cell_type": "code",
   "execution_count": null,
   "metadata": {},
   "outputs": [],
   "source": []
  }
 ],
 "metadata": {
  "kernelspec": {
   "display_name": "Python 3",
   "language": "python",
   "name": "python3"
  },
  "language_info": {
   "codemirror_mode": {
    "name": "ipython",
    "version": 3
   },
   "file_extension": ".py",
   "mimetype": "text/x-python",
   "name": "python",
   "nbconvert_exporter": "python",
   "pygments_lexer": "ipython3",
   "version": "3.6.10"
  }
 },
 "nbformat": 4,
 "nbformat_minor": 4
}
